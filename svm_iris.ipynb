{
  "nbformat": 4,
  "nbformat_minor": 0,
  "metadata": {
    "colab": {
      "name": "svm_iris.ipynb",
      "version": "0.3.2",
      "provenance": [],
      "include_colab_link": true
    },
    "kernelspec": {
      "name": "python3",
      "display_name": "Python 3"
    }
  },
  "cells": [
    {
      "cell_type": "markdown",
      "metadata": {
        "id": "view-in-github",
        "colab_type": "text"
      },
      "source": [
        "<a href=\"https://colab.research.google.com/github/roybibek/svm_iris/blob/master/svm_iris.ipynb\" target=\"_parent\"><img src=\"https://colab.research.google.com/assets/colab-badge.svg\" alt=\"Open In Colab\"/></a>"
      ]
    },
    {
      "metadata": {
        "id": "zZwM0XebHFNf",
        "colab_type": "code",
        "colab": {}
      },
      "cell_type": "code",
      "source": [
        "import matplotlib.pyplot as plt\n",
        "import matplotlib.patches as mpatches\n",
        "import numpy as np\n",
        "import pandas as pd\n",
        "from sklearn import datasets, svm\n",
        "import seaborn as sns\n",
        "\n",
        "%matplotlib inline"
      ],
      "execution_count": 0,
      "outputs": []
    },
    {
      "metadata": {
        "id": "ALGNSSpxHNTo",
        "colab_type": "code",
        "colab": {
          "base_uri": "https://localhost:8080/",
          "height": 154
        },
        "outputId": "ab154eeb-c9ca-4794-e9f1-4a6714dd3d0b"
      },
      "cell_type": "code",
      "source": [
        "iris = datasets.load_iris()\n",
        "X = iris.data\n",
        "Y = iris.target\n",
        "print(iris.feature_names)\n",
        "\n",
        "clf = svm.SVC()\n",
        "clf.fit(X, Y)"
      ],
      "execution_count": 3,
      "outputs": [
        {
          "output_type": "stream",
          "text": [
            "['sepal length (cm)', 'sepal width (cm)', 'petal length (cm)', 'petal width (cm)']\n"
          ],
          "name": "stdout"
        },
        {
          "output_type": "stream",
          "text": [
            "/usr/local/lib/python3.6/dist-packages/sklearn/svm/base.py:196: FutureWarning: The default value of gamma will change from 'auto' to 'scale' in version 0.22 to account better for unscaled features. Set gamma explicitly to 'auto' or 'scale' to avoid this warning.\n",
            "  \"avoid this warning.\", FutureWarning)\n"
          ],
          "name": "stderr"
        },
        {
          "output_type": "execute_result",
          "data": {
            "text/plain": [
              "SVC(C=1.0, cache_size=200, class_weight=None, coef0=0.0,\n",
              "  decision_function_shape='ovr', degree=3, gamma='auto_deprecated',\n",
              "  kernel='rbf', max_iter=-1, probability=False, random_state=None,\n",
              "  shrinking=True, tol=0.001, verbose=False)"
            ]
          },
          "metadata": {
            "tags": []
          },
          "execution_count": 3
        }
      ]
    },
    {
      "metadata": {
        "id": "2UgZ6--vHPr-",
        "colab_type": "code",
        "colab": {
          "base_uri": "https://localhost:8080/",
          "height": 67
        },
        "outputId": "99407c43-4e9b-4789-9ea7-6a435d7991db"
      },
      "cell_type": "code",
      "source": [
        "iris.target_names[clf.predict(X[50:60])]"
      ],
      "execution_count": 4,
      "outputs": [
        {
          "output_type": "execute_result",
          "data": {
            "text/plain": [
              "array(['versicolor', 'versicolor', 'versicolor', 'versicolor',\n",
              "       'versicolor', 'versicolor', 'versicolor', 'versicolor',\n",
              "       'versicolor', 'versicolor'], dtype='<U10')"
            ]
          },
          "metadata": {
            "tags": []
          },
          "execution_count": 4
        }
      ]
    },
    {
      "metadata": {
        "id": "-OUU1qXaHUv5",
        "colab_type": "code",
        "colab": {}
      },
      "cell_type": "code",
      "source": [
        "data = np.hstack([X, Y.reshape(len(Y), 1)])\n",
        "df = pd.DataFrame(data)\n",
        "#sns.pairplot(pd.DataFrame(data), size=2.5)\n",
        "#g=sns.barplot(x=0,y=1, data=df,ci=None)\n",
        "#b=sns.jointplot(x='0', y='1', data=df, size=8, alpha=.6,color='k', marker='x')"
      ],
      "execution_count": 0,
      "outputs": []
    },
    {
      "metadata": {
        "id": "D187Xfj3HY_o",
        "colab_type": "code",
        "colab": {
          "base_uri": "https://localhost:8080/",
          "height": 318
        },
        "outputId": "962cfc87-7ed7-476d-d79e-7b8108441e61"
      },
      "cell_type": "code",
      "source": [
        "def plot_iris(dataX, dataY, ix=0, iy=1):\n",
        "    target_names = ['sepal length (cm)', 'sepal width (cm)', 'petal length (cm)', 'petal width (cm)']\n",
        "    for i, target in enumerate(dataY):\n",
        "        x, y = dataX[i][ix], dataX[i][iy]\n",
        "        t = target\n",
        "        scale = 100.0\n",
        "        color = \"\"\n",
        "        if t == 0:\n",
        "            color = \"red\"\n",
        "        elif t == 1:\n",
        "            color = \"green\"\n",
        "        elif t == 2:\n",
        "            color = \"blue\"\n",
        "\n",
        "        plt.scatter(x, y, c=color, alpha=1, edgecolor=\"none\")\n",
        "\n",
        "    # Legend\n",
        "    red_patch = mpatches.Patch(color='red', label='iris setosa')\n",
        "    green_patch = mpatches.Patch(color='green', label='iris versicolor')\n",
        "    blue_patch = mpatches.Patch(color='blue', label='iris virginica')\n",
        "    plt.legend(handles=[red_patch, green_patch, blue_patch])\n",
        "\n",
        "    plt.title(\"The Iris Data Set\", fontsize=18)\n",
        "    plt.xlabel(target_names[ix], fontsize=15)\n",
        "    plt.ylabel(target_names[iy], fontsize=15)\n",
        "\n",
        "    plt.legend()\n",
        "    plt.grid(True)\n",
        "\n",
        "plot_iris(X, Y, ix=0, iy=1)\n",
        "\n",
        "#plt.scatter(X[:, 0], X[:, 1], c=Y);"
      ],
      "execution_count": 6,
      "outputs": [
        {
          "output_type": "stream",
          "text": [
            "No handles with labels found to put in legend.\n"
          ],
          "name": "stderr"
        },
        {
          "output_type": "display_data",
          "data": {
            "image/png": "[encoded data removed]",
            "text/plain": [
              "<matplotlib.figure.Figure at 0x7f8424fe56a0>"
            ]
          },
          "metadata": {
            "tags": []
          }
        }
      ]
    },
    {
      "metadata": {
        "id": "HZXzn_QVHdZk",
        "colab_type": "code",
        "colab": {}
      },
      "cell_type": "code",
      "source": [
        ""
      ],
      "execution_count": 0,
      "outputs": []
    }
  ]
}